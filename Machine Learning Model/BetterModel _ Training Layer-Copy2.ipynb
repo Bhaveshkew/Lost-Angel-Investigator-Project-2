{
 "cells": [
  {
   "cell_type": "code",
   "execution_count": 8,
   "id": "94e14962",
   "metadata": {},
   "outputs": [
    {
     "name": "stdout",
     "output_type": "stream",
     "text": [
      "Found 4764 files belonging to 80 classes.\n",
      "Found 1602 files belonging to 80 classes.\n"
     ]
    }
   ],
   "source": [
    "import tensorflow as tf\n",
    "from tensorflow.keras.preprocessing.image import ImageDataGenerator\n",
    "\n",
    "IMG_SIZE = (224, 224)\n",
    "\n",
    "train_dir = \"output/train/\"\n",
    "test_dir = \"output/val/\"\n",
    "\n",
    "\n",
    "\n",
    "train_data = tf.keras.preprocessing.image_dataset_from_directory(train_dir,\n",
    "                                                                                label_mode=\"categorical\",\n",
    "                                                                                image_size=IMG_SIZE)\n",
    "                                                                                \n",
    "test_data = tf.keras.preprocessing.image_dataset_from_directory(test_dir,\n",
    "                                                                label_mode=\"categorical\",\n",
    "                                                                image_size=IMG_SIZE,\n",
    "                                                                shuffle=False)\n",
    "\n"
   ]
  },
  {
   "cell_type": "code",
   "execution_count": 9,
   "id": "f93309c8",
   "metadata": {},
   "outputs": [
    {
     "name": "stdout",
     "output_type": "stream",
     "text": [
      "<BatchDataset shapes: ((None, 224, 224, 3), (None, 80)), types: (tf.float32, tf.float32)>\n"
     ]
    }
   ],
   "source": [
    "print(train_data)"
   ]
  },
  {
   "cell_type": "code",
   "execution_count": 10,
   "id": "9fe864b4",
   "metadata": {},
   "outputs": [],
   "source": [
    "checkpoint_path = \"better_model_checkpoint\"\n",
    "checkpoint_callback = tf.keras.callbacks.ModelCheckpoint(checkpoint_path,\n",
    "                                                         save_weights_only=True, # save only the model weights\n",
    "                                                         monitor=\"val_accuracy\", # save the model weights which score the best validation accuracy\n",
    "                                                         save_best_only=True)"
   ]
  },
  {
   "cell_type": "code",
   "execution_count": 11,
   "id": "4c2163c5",
   "metadata": {},
   "outputs": [],
   "source": [
    "from tensorflow.keras import layers\n",
    "from tensorflow.keras.layers.experimental import preprocessing\n",
    "from tensorflow.keras.models import Sequential\n",
    "\n",
    "# original_data = Sequential([\n",
    "#   preprocessing.RandomRotation(0), \n",
    "# ], name=\"original_data\")\n",
    "\n",
    "data_augmentation = Sequential([\n",
    "    preprocessing.RandomRotation(0),\n",
    "    preprocessing.RandomFlip(\"horizontal\"),\n",
    "    preprocessing.RandomRotation(0.2),  \n",
    "    preprocessing.RandomHeight(0.2),\n",
    "    preprocessing.RandomWidth(0.2),\n",
    "    preprocessing.RandomZoom(0.2),\n",
    "    preprocessing.RandomContrast(0.1),\n",
    "], name=\"data_augmentation\")"
   ]
  },
  {
   "cell_type": "code",
   "execution_count": 12,
   "id": "04334b92",
   "metadata": {},
   "outputs": [],
   "source": [
    "base_model = tf.keras.applications.EfficientNetB0(include_top=False)\n",
    "base_model.trainable = False\n",
    "\n",
    "\n",
    "inputs = layers.Input(shape=(224, 224, 3), name=\"input_layer\")\n",
    "\n",
    "x = base_model(inputs, training=False) \n",
    "x = layers.GlobalAveragePooling2D(name=\"global_average_pooling\")(x) \n",
    "outputs = layers.Dense(len(train_data.class_names), activation=\"softmax\", name=\"output_layer\")(x) \n",
    "model = tf.keras.Model(inputs, outputs)"
   ]
  },
  {
   "cell_type": "code",
   "execution_count": 13,
   "id": "b1518140",
   "metadata": {},
   "outputs": [
    {
     "name": "stdout",
     "output_type": "stream",
     "text": [
      "Model: \"model_1\"\n",
      "_________________________________________________________________\n",
      "Layer (type)                 Output Shape              Param #   \n",
      "=================================================================\n",
      "input_layer (InputLayer)     [(None, 224, 224, 3)]     0         \n",
      "_________________________________________________________________\n",
      "efficientnetb0 (Functional)  (None, None, None, 1280)  4049571   \n",
      "_________________________________________________________________\n",
      "global_average_pooling (Glob (None, 1280)              0         \n",
      "_________________________________________________________________\n",
      "output_layer (Dense)         (None, 80)                102480    \n",
      "=================================================================\n",
      "Total params: 4,152,051\n",
      "Trainable params: 102,480\n",
      "Non-trainable params: 4,049,571\n",
      "_________________________________________________________________\n"
     ]
    }
   ],
   "source": [
    "model.summary()"
   ]
  },
  {
   "cell_type": "code",
   "execution_count": 14,
   "id": "7ac24b15",
   "metadata": {},
   "outputs": [
    {
     "name": "stdout",
     "output_type": "stream",
     "text": [
      "Epoch 1/10\n",
      "149/149 [==============================] - 55s 350ms/step - loss: 3.5037 - accuracy: 0.2974 - val_loss: 2.6613 - val_accuracy: 0.6092\n",
      "Epoch 2/10\n",
      "149/149 [==============================] - 53s 356ms/step - loss: 2.1345 - accuracy: 0.7238 - val_loss: 1.7720 - val_accuracy: 0.8034\n",
      "Epoch 3/10\n",
      "149/149 [==============================] - 50s 337ms/step - loss: 1.4144 - accuracy: 0.8707 - val_loss: 1.2713 - val_accuracy: 0.8783\n",
      "Epoch 4/10\n",
      "149/149 [==============================] - 52s 346ms/step - loss: 1.0033 - accuracy: 0.9217 - val_loss: 0.9698 - val_accuracy: 0.9095\n",
      "Epoch 5/10\n",
      "149/149 [==============================] - 51s 345ms/step - loss: 0.7464 - accuracy: 0.9513 - val_loss: 0.7774 - val_accuracy: 0.9251\n",
      "Epoch 6/10\n",
      "149/149 [==============================] - 52s 347ms/step - loss: 0.5829 - accuracy: 0.9652 - val_loss: 0.6369 - val_accuracy: 0.9419\n",
      "Epoch 7/10\n",
      "149/149 [==============================] - 51s 344ms/step - loss: 0.4668 - accuracy: 0.9746 - val_loss: 0.5432 - val_accuracy: 0.9501\n",
      "Epoch 8/10\n",
      "149/149 [==============================] - 50s 339ms/step - loss: 0.3838 - accuracy: 0.9811 - val_loss: 0.4647 - val_accuracy: 0.9582\n",
      "Epoch 9/10\n",
      "149/149 [==============================] - 51s 340ms/step - loss: 0.3183 - accuracy: 0.9853 - val_loss: 0.4032 - val_accuracy: 0.9657\n",
      "Epoch 10/10\n",
      "149/149 [==============================] - 51s 343ms/step - loss: 0.2693 - accuracy: 0.9899 - val_loss: 0.3566 - val_accuracy: 0.9707\n"
     ]
    }
   ],
   "source": [
    "model.compile(loss=\"categorical_crossentropy\",\n",
    "              optimizer=tf.keras.optimizers.Adam(),\n",
    "              metrics=[\"accuracy\"])\n",
    "\n",
    "# Fit\n",
    "history_base_model = model.fit(train_data,\n",
    "                                           epochs=10, \n",
    "                                           validation_data=test_data,\n",
    "                                           validation_steps=len(test_data))"
   ]
  },
  {
   "cell_type": "code",
   "execution_count": null,
   "id": "10fb8d01",
   "metadata": {},
   "outputs": [],
   "source": [
    "base_model.trainable = True\n",
    "\n",
    "# Refreeze every layer except for the last 5\n",
    "for layer in base_model.layers[:-5]:\n",
    "    layer.trainable = False\n"
   ]
  },
  {
   "cell_type": "code",
   "execution_count": null,
   "id": "16adf71c",
   "metadata": {},
   "outputs": [],
   "source": [
    "new_model = model"
   ]
  },
  {
   "cell_type": "code",
   "execution_count": null,
   "id": "34ef49bd",
   "metadata": {},
   "outputs": [],
   "source": [
    "model.compile(loss='categorical_crossentropy',\n",
    "              optimizer=tf.keras.optimizers.Adam(1e-4), # 10x lower learning rate than default\n",
    "              metrics=['accuracy'])"
   ]
  },
  {
   "cell_type": "code",
   "execution_count": null,
   "id": "15c7bdc6",
   "metadata": {},
   "outputs": [],
   "source": [
    "fine_tune_epochs = 31\n",
    "\n",
    "history_model_fine_tune = model.fit(train_data,\n",
    "                                                     epochs=fine_tune_epochs,\n",
    "                                                     validation_data=test_data,\n",
    "                                                     validation_steps=len(test_data),\n",
    "                                                     initial_epoch=history_base_model.epoch[-1])"
   ]
  },
  {
   "cell_type": "code",
   "execution_count": null,
   "id": "35931dcf",
   "metadata": {},
   "outputs": [],
   "source": [
    "# import cv2\n",
    "# import numpy as np\n",
    "# IMAGE_SHAPE = (224, 224)\n",
    "# IMAGE_SHAPE+(3,)\n",
    "# test_dir = \"C:\\\\Users\\\\bhave\\\\Project-1\\\\Class25_Dataset\\\\train\\\\a\\\\2.jpeg\"\n",
    "# img = cv2.imread(test_dir)\n",
    "# img_resize = cv2.resize(img , IMAGE_SHAPE)\n",
    "# predicted = model.predict(np.array([img_resize]))\n",
    "# ind = np.argmax(predicted , axis = 1)\n",
    "# index = ind[0]\n",
    "# print(index)\n",
    "# cv2.imshow('detected', img)\n",
    "# cv2.waitKey(0)"
   ]
  },
  {
   "cell_type": "code",
   "execution_count": 15,
   "id": "3450e903",
   "metadata": {},
   "outputs": [
    {
     "name": "stderr",
     "output_type": "stream",
     "text": [
      "/usr/local/lib/python3.6/dist-packages/keras/utils/generic_utils.py:497: CustomMaskWarning: Custom mask layers require a config and must override get_config. When loading, the custom mask layer must be passed to the custom_objects argument.\n",
      "  category=CustomMaskWarning)\n"
     ]
    }
   ],
   "source": [
    "model_json = model.to_json()\n",
    "with open(\"2ndtry_better_model.json\" , \"w\") as json_file:\n",
    "    json_file.write(model_json)\n",
    "model.save_weights(\"2ndtry_better_model_weights.h5\")"
   ]
  },
  {
   "cell_type": "code",
   "execution_count": null,
   "id": "b04f6404",
   "metadata": {},
   "outputs": [],
   "source": [
    "from keras.models import model_from_json\n",
    "import json\n",
    "\n",
    "model_file = open(\"better_model.json\", \"r\")\n",
    "model_json = model_file.read()\n",
    "model = model_from_json(model_json)\n",
    "model.load_weights(\"better_model_weights.h5\")"
   ]
  },
  {
   "cell_type": "code",
   "execution_count": null,
   "id": "ab881974",
   "metadata": {},
   "outputs": [],
   "source": []
  }
 ],
 "metadata": {
  "kernelspec": {
   "display_name": "Python 3 (ipykernel)",
   "language": "python",
   "name": "python3"
  },
  "language_info": {
   "codemirror_mode": {
    "name": "ipython",
    "version": 3
   },
   "file_extension": ".py",
   "mimetype": "text/x-python",
   "name": "python",
   "nbconvert_exporter": "python",
   "pygments_lexer": "ipython3",
   "version": "3.9.7"
  }
 },
 "nbformat": 4,
 "nbformat_minor": 5
}
