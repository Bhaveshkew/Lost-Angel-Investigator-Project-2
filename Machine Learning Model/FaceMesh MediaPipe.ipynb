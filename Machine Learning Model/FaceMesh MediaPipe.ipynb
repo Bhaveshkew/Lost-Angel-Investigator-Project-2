{
 "cells": [
  {
   "cell_type": "code",
   "execution_count": 1,
   "id": "641d972a",
   "metadata": {},
   "outputs": [],
   "source": [
    "import cv2\n",
    "import mediapipe as mp\n",
    "from math import *\n",
    "import numpy as np"
   ]
  },
  {
   "cell_type": "code",
   "execution_count": 2,
   "id": "a48bce81",
   "metadata": {},
   "outputs": [
    {
     "name": "stdout",
     "output_type": "stream",
     "text": [
      "500 500\n"
     ]
    },
    {
     "data": {
      "text/plain": [
       "-1"
      ]
     },
     "execution_count": 2,
     "metadata": {},
     "output_type": "execute_result"
    }
   ],
   "source": [
    "face_mesh = mp.solutions.face_mesh.FaceMesh()\n",
    "image = cv2.imread(\"test2.jpg\")\n",
    "image = cv2.resize(image , dsize = (500,500))\n",
    "rgb_image = cv2.cvtColor(image , cv2.COLOR_BGR2RGB)\n",
    "height,width, _ = image.shape\n",
    "print(height , width)\n",
    "result = face_mesh.process(rgb_image)\n",
    "# print(result.multi_face_landmarks)\n",
    "all_landmarks = result.multi_face_landmarks[0].landmark #All landmarks for one face\n",
    "\n",
    "for point in all_landmarks:\n",
    "    x = int(point.x * width)\n",
    "    y = int (point.y * height)\n",
    "    cv2.circle(image , (x,y), 1, (0, 0 , 100))\n",
    "cv2.imshow(\"Image\" , image)\n",
    "cv2.waitKey(0)"
   ]
  },
  {
   "cell_type": "code",
   "execution_count": 3,
   "id": "04db37ab",
   "metadata": {},
   "outputs": [],
   "source": [
    "def aligner(coordinates , img):\n",
    "    w,h,_= img.shape\n",
    "    left_eye_left = coordinates[130]\n",
    "    right_eye_right = coordinates[359]\n",
    "    lx = left_eye_left[0]\n",
    "    ly = left_eye_left[1]\n",
    "    rx = right_eye_right[0]\n",
    "    ry = right_eye_right[1]\n",
    "    nose_tip = coordinates[94]\n",
    "    scale = 1\n",
    "    angle = (atan((ry-ly) / (rx-lx))*180)/ pi\n",
    "    M = cv2.getRotationMatrix2D((nose_tip[0] , nose_tip[1]), angle, scale)\n",
    "    rotated_img = cv2.warpAffine(img, M, (500, 500))\n",
    "    return rotated_img\n",
    "    \n"
   ]
  },
  {
   "cell_type": "code",
   "execution_count": 4,
   "id": "26c52db1",
   "metadata": {},
   "outputs": [],
   "source": [
    "def bg_remove(image):\n",
    "    face_mesh = mp.solutions.face_mesh.FaceMesh()\n",
    "    \n",
    "    image = cv2.resize(image , dsize = (500,500))\n",
    "    rgb_image = cv2.cvtColor(image , cv2.COLOR_BGR2RGB)\n",
    "    height,width, _ = image.shape\n",
    "    \n",
    "    \n",
    "    result = face_mesh.process(image)\n",
    "    all_landmarks = result.multi_face_landmarks[0].landmark\n",
    "    coordinates = []\n",
    "    for i in all_landmarks:\n",
    "        x_and_y = []\n",
    "        x_and_y.append((int)(i.x*width))\n",
    "        x_and_y.append((int)(i.y*height))\n",
    "        coordinates.append(x_and_y)\n",
    "    \n",
    "    routes = [\n",
    "              (coordinates[332][0] ,coordinates[332][1])  ,\n",
    "              (coordinates[297][0] ,coordinates[297][1])  ,\n",
    "              (coordinates[338][0] ,coordinates[338][1])  ,\n",
    "              (coordinates[10][0] ,coordinates[10][1])  ,\n",
    "              (coordinates[109][0] ,coordinates[109][1])  ,\n",
    "              (coordinates[67][0] ,coordinates[67][1])  ,\n",
    "              (coordinates[103][0] ,coordinates[103][1])  ,\n",
    "              (coordinates[54][0] ,coordinates[54][1])  ,\n",
    "              (coordinates[21][0] ,coordinates[21][1])  ,\n",
    "              (coordinates[162][0] ,coordinates[162][1])  ,\n",
    "              (coordinates[127][0] ,coordinates[127][1])  ,\n",
    "              (coordinates[234][0] ,coordinates[234][1])  ,\n",
    "              (coordinates[93][0] ,coordinates[93][1])  ,\n",
    "              (coordinates[132][0] ,coordinates[132][1])  ,\n",
    "              (coordinates[58][0] ,coordinates[58][1])  ,\n",
    "              (coordinates[172][0] ,coordinates[172][1])  ,\n",
    "              (coordinates[136][0] ,coordinates[136][1])  ,\n",
    "              (coordinates[150][0] ,coordinates[150][1])  ,\n",
    "              (coordinates[149][0] ,coordinates[149][1])  , \n",
    "              (coordinates[176][0] ,coordinates[176][1]),\n",
    "              (coordinates[148][0] ,coordinates[148][1]),\n",
    "              (coordinates[152][0] ,coordinates[152][1]), \n",
    "              (coordinates[377][0] ,coordinates[377][1]),\n",
    "              (coordinates[400][0] ,coordinates[400][1]),\n",
    "              (coordinates[378][0] ,coordinates[378][1]),\n",
    "              (coordinates[379][0] ,coordinates[379][1])  ,\n",
    "              (coordinates[365][0] ,coordinates[365][1])  ,\n",
    "              (coordinates[397][0] ,coordinates[397][1])  ,\n",
    "              (coordinates[288][0] ,coordinates[288][1])  ,\n",
    "              (coordinates[361][0] ,coordinates[361][1])  ,\n",
    "              (coordinates[323][0] ,coordinates[323][1])  ,\n",
    "              (coordinates[454][0] ,coordinates[454][1])  ,\n",
    "              (coordinates[356][0] ,coordinates[356][1])  ,\n",
    "              (coordinates[389][0] ,coordinates[389][1])  ,\n",
    "              (coordinates[251][0] ,coordinates[251][1])  ,\n",
    "              (coordinates[284][0] ,coordinates[284][1])  ,\n",
    "              (coordinates[332][0] ,coordinates[332][1])  ,\n",
    "             ]\n",
    "    cv2.line(image , (coordinates[176][0] ,coordinates[176][1])  ,(coordinates[148][0] ,coordinates[148][1]) , (255,255,0), 1)\n",
    "    cv2.line(image , (coordinates[148][0] ,coordinates[148][1])  ,(coordinates[152][0] ,coordinates[152][1]) , (255,255,0), 1)\n",
    "    cv2.line(image , (coordinates[152][0] ,coordinates[152][1])  ,(coordinates[377][0] ,coordinates[377][1]) , (255,255,0), 1)\n",
    "    cv2.line(image , (coordinates[377][0] ,coordinates[377][1])  ,(coordinates[400][0] ,coordinates[400][1]) , (255,255,0), 1)\n",
    "    cv2.line(image , (coordinates[400][0] ,coordinates[400][1])  ,(coordinates[378][0] ,coordinates[378][1]) , (255,255,0), 1)\n",
    "    cv2.line(image , (coordinates[378][0] ,coordinates[378][1])  ,(coordinates[379][0] ,coordinates[379][1]) , (255,255,0), 1)\n",
    "    cv2.line(image , (coordinates[379][0] ,coordinates[379][1])  ,(coordinates[365][0] ,coordinates[365][1]) , (255,255,0), 1)\n",
    "    cv2.line(image , (coordinates[365][0] ,coordinates[365][1])  ,(coordinates[397][0] ,coordinates[397][1]) , (255,255,0), 1)\n",
    "    cv2.line(image , (coordinates[397][0] ,coordinates[397][1])  ,(coordinates[288][0] ,coordinates[288][1]) , (255,255,0), 1)\n",
    "    cv2.line(image , (coordinates[288][0] ,coordinates[288][1])  ,(coordinates[361][0] ,coordinates[361][1]) , (255,255,0), 1)\n",
    "    cv2.line(image , (coordinates[361][0] ,coordinates[361][1])  ,(coordinates[323][0] ,coordinates[323][1]) , (255,255,0), 1)\n",
    "    cv2.line(image , (coordinates[323][0] ,coordinates[323][1])  ,(coordinates[454][0] ,coordinates[454][1]) , (255,255,0), 1)\n",
    "    cv2.line(image , (coordinates[454][0] ,coordinates[454][1])  ,(coordinates[356][0] ,coordinates[356][1]) , (255,255,0), 1)\n",
    "    cv2.line(image , (coordinates[356][0] ,coordinates[356][1])  ,(coordinates[389][0] ,coordinates[389][1]) , (255,255,0), 1)\n",
    "    cv2.line(image , (coordinates[389][0] ,coordinates[389][1])  ,(coordinates[251][0] ,coordinates[251][1]) , (255,255,0), 1)\n",
    "    cv2.line(image , (coordinates[251][0] ,coordinates[251][1])  ,(coordinates[284][0] ,coordinates[284][1]) , (255,255,0), 1)\n",
    "    cv2.line(image , (coordinates[284][0] ,coordinates[284][1])  ,(coordinates[332][0] ,coordinates[332][1]) , (255,255,0), 1)\n",
    "    cv2.line(image , (coordinates[332][0] ,coordinates[332][1])  ,(coordinates[297][0] ,coordinates[297][1]) , (255,255,0), 1)\n",
    "    cv2.line(image , (coordinates[297][0] ,coordinates[297][1])  ,(coordinates[338][0] ,coordinates[338][1]) , (255,255,0), 1)\n",
    "    cv2.line(image , (coordinates[338][0] ,coordinates[338][1])  ,(coordinates[10][0]  ,coordinates[10][1])  , (255,255,0), 1)\n",
    "    cv2.line(image , (coordinates[10][0]  ,coordinates[10][1])   ,(coordinates[109][0] ,coordinates[109][1]) , (255,255,0), 1)\n",
    "    cv2.line(image , (coordinates[109][0] ,coordinates[109][1])  ,(coordinates[67][0]  ,coordinates[67][1])  , (255,255,0), 1)\n",
    "    cv2.line(image , (coordinates[67][0]  ,coordinates[67][1])   ,(coordinates[103][0] ,coordinates[103][1]) , (255,255,0), 1)\n",
    "    cv2.line(image , (coordinates[103][0] ,coordinates[103][1])  ,(coordinates[54][0]  ,coordinates[54][1])  , (255,255,0), 1)\n",
    "    cv2.line(image , (coordinates[54][0]  ,coordinates[54][1])   ,(coordinates[21][0]  ,coordinates[21][1])  , (255,255,0), 1)\n",
    "    cv2.line(image , (coordinates[21][0]  ,coordinates[21][1])   ,(coordinates[162][0] ,coordinates[162][1]) , (255,255,0), 1)\n",
    "    cv2.line(image , (coordinates[162][0] ,coordinates[162][1])  ,(coordinates[127][0] ,coordinates[127][1]) , (255,255,0), 1)\n",
    "    cv2.line(image , (coordinates[127][0] ,coordinates[127][1])  ,(coordinates[234][0] ,coordinates[234][1]) , (255,255,0), 1)\n",
    "    cv2.line(image , (coordinates[234][0] ,coordinates[234][1])  ,(coordinates[93][0]  ,coordinates[93][1])  , (255,255,0), 1)\n",
    "    cv2.line(image , (coordinates[93][0]  ,coordinates[93][1])   ,(coordinates[132][0] ,coordinates[132][1]) , (255,255,0), 1)\n",
    "    cv2.line(image , (coordinates[132][0] ,coordinates[132][1])  ,(coordinates[58][0]  ,coordinates[58][1])  , (255,255,0), 1)\n",
    "    cv2.line(image , (coordinates[58][0]  ,coordinates[58][1])   ,(coordinates[172][0] ,coordinates[172][1]) , (255,255,0), 1)\n",
    "    cv2.line(image , (coordinates[172][0] ,coordinates[172][1])  ,(coordinates[136][0] ,coordinates[136][1]) , (255,255,0), 1)\n",
    "    cv2.line(image , (coordinates[136][0] ,coordinates[136][1])  ,(coordinates[150][0] ,coordinates[150][1]) , (255,255,0), 1)\n",
    "    cv2.line(image , (coordinates[150][0] ,coordinates[150][1])  ,(coordinates[149][0] ,coordinates[149][1]) , (255,255,0), 1)\n",
    "    cv2.line(image , (coordinates[149][0] ,coordinates[149][1])  ,(coordinates[176][0] ,coordinates[176][1]) , (255,255,0), 1)\n",
    "    \n",
    "    mask = np.zeros((500,500))\n",
    "    mask = cv2.fillConvexPoly(mask, np.array(routes), 1)\n",
    "    mask = mask.astype(bool)\n",
    "\n",
    "    out = np.zeros_like(image)\n",
    "    out[mask] = image[mask]\n",
    "    return out , coordinates\n",
    "\n",
    "\n"
   ]
  },
  {
   "cell_type": "code",
   "execution_count": 5,
   "id": "31276e55",
   "metadata": {},
   "outputs": [
    {
     "data": {
      "text/plain": [
       "-1"
      ]
     },
     "execution_count": 5,
     "metadata": {},
     "output_type": "execute_result"
    }
   ],
   "source": [
    "image1 = cv2.imread(\"test1.jpg\")\n",
    "tilted_image1 = cv2.imread(\"test2.jpg\")\n",
    "tilted_image1 = cv2.resize(tilted_image1 , dsize = (500,500))\n",
    "cv2.imshow(\"Before Removal\" , tilted_image1)\n",
    "img1, cc1 = bg_remove(image1)\n",
    "img2, cc2 = bg_remove(tilted_image1)\n",
    "\n",
    "# cv2.imshow(\"Img\" , img1)\n",
    "cv2.imshow(\"Tilted Img\" , img2)\n",
    "aligned_img = aligner(cc2 , img2)\n",
    "cv2.imshow(\"Processed Img\" , aligned_img)\n",
    "cv2.waitKey(0)"
   ]
  },
  {
   "cell_type": "code",
   "execution_count": 6,
   "id": "4e80d4ac",
   "metadata": {},
   "outputs": [],
   "source": [
    "def get_new_coordinates(image):\n",
    "    face_mesh = mp.solutions.face_mesh.FaceMesh()\n",
    "    image = cv2.resize(image , dsize = (500,500))\n",
    "    rgb_image = cv2.cvtColor(image , cv2.COLOR_BGR2RGB)\n",
    "    height,width, _ = image.shape\n",
    "    result = face_mesh.process(image)\n",
    "    all_landmarks = result.multi_face_landmarks[0].landmark\n",
    "    coordinates = []\n",
    "    for i in all_landmarks:\n",
    "        x_and_y = []\n",
    "        x_and_y.append((int)(i.x*width))\n",
    "        x_and_y.append((int)(i.y*height))\n",
    "        coordinates.append(x_and_y)\n",
    "    return coordinates\n",
    "\n",
    "def normalizer(coordinates):\n",
    "    for i in coordinates:\n",
    "        i[0] =(int)  (i[0] - coordinates[94][0])\n",
    "        i[1] = (int) (i[1] - coordinates[94][1])\n",
    "    return coordinates\n",
    "\n",
    "\n",
    "def preprocess(image):\n",
    "    image , coor = bg_remove(image)\n",
    "    image = aligner(coor , image)\n",
    "    real_coor = get_new_coordinates(image)\n",
    "    real_coor = normalizer(real_coor)\n",
    "    return image , real_coor\n",
    "    "
   ]
  },
  {
   "cell_type": "code",
   "execution_count": 7,
   "id": "44155a49",
   "metadata": {},
   "outputs": [
    {
     "data": {
      "text/plain": [
       "-1"
      ]
     },
     "execution_count": 7,
     "metadata": {},
     "output_type": "execute_result"
    }
   ],
   "source": [
    "image1 = cv2.imread(\"test1.jpg\")\n",
    "tilted_image1 = cv2.imread(\"test2.jpg\")\n",
    "\n",
    "i1,c1 = preprocess(image1)\n",
    "i2,c2 = preprocess(tilted_image1)\n",
    "\n",
    "cv2.imshow(\"Image1\" , i1)\n",
    "cv2.imshow(\"Image2\" , i2)\n",
    "cv2.waitKey(0)"
   ]
  },
  {
   "cell_type": "code",
   "execution_count": null,
   "id": "f64b2d21",
   "metadata": {},
   "outputs": [],
   "source": []
  }
 ],
 "metadata": {
  "kernelspec": {
   "display_name": "Python 3 (ipykernel)",
   "language": "python",
   "name": "python3"
  },
  "language_info": {
   "codemirror_mode": {
    "name": "ipython",
    "version": 3
   },
   "file_extension": ".py",
   "mimetype": "text/x-python",
   "name": "python",
   "nbconvert_exporter": "python",
   "pygments_lexer": "ipython3",
   "version": "3.9.7"
  }
 },
 "nbformat": 4,
 "nbformat_minor": 5
}
